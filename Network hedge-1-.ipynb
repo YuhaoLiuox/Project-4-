{
 "cells": [
  {
   "cell_type": "code",
   "execution_count": 125,
   "metadata": {},
   "outputs": [],
   "source": [
    "import numpy as np\n",
    "import matplotlib.pyplot as plt\n",
    "import pandas as pd\n",
    "import scipy.stats as ss\n",
    "import tensorflow as tf\n",
    "import math\n",
    "import random"
   ]
  },
  {
   "cell_type": "markdown",
   "metadata": {},
   "source": [
    "Parameter initialization"
   ]
  },
  {
   "cell_type": "code",
   "execution_count": 196,
   "metadata": {},
   "outputs": [],
   "source": [
    "T=30/365\n",
    "dt=1/365\n",
    "N=round(T/dt)\n",
    "t=np.linspace(0,T,N)\n",
    "vol=0.2\n",
    "r=0\n",
    "cost=0.002\n",
    "S0=100"
   ]
  },
  {
   "cell_type": "markdown",
   "metadata": {},
   "source": [
    "Generated sample paths by GBM model"
   ]
  },
  {
   "cell_type": "code",
   "execution_count": 197,
   "metadata": {},
   "outputs": [],
   "source": [
    "path_num=300  #We set the number of the sample paths. Here we choose 300 for the sake of simplicity\n",
    "path=[]\n",
    "for i in range(path_num):\n",
    "    rand=np.random.standard_normal(size=N)\n",
    "    S=np.zeros_like(rand)\n",
    "    S[0]=S0\n",
    "    for i in range(1,N):\n",
    "        S[i]=S[i-1]*np.exp((r-vol**2/2)*dt+vol*rand[i]*math.sqrt(dt))\n",
    "    path.append(S)"
   ]
  },
  {
   "cell_type": "code",
   "execution_count": 198,
   "metadata": {},
   "outputs": [],
   "source": [
    "path=np.array(path)"
   ]
  },
  {
   "cell_type": "markdown",
   "metadata": {},
   "source": [
    "Visualized one of the sample"
   ]
  },
  {
   "cell_type": "code",
   "execution_count": 199,
   "metadata": {},
   "outputs": [
    {
     "data": {
      "image/png": "[encoded data removed]",
      "text/plain": [
       "<Figure size 432x288 with 1 Axes>"
      ]
     },
     "metadata": {
      "needs_background": "light"
     },
     "output_type": "display_data"
    }
   ],
   "source": [
    "S_sam=path[0]\n",
    "time=range(len(S_sam))\n",
    "time=np.array(time)/365\n",
    "plt.xlabel('time')\n",
    "plt.ylabel('price')\n",
    "plt.title(u'GBM')\n",
    "plt.plot(time,S_sam)\n",
    "plt.show()"
   ]
  },
  {
   "cell_type": "markdown",
   "metadata": {},
   "source": [
    "Calculated the option prices"
   ]
  },
  {
   "cell_type": "code",
   "execution_count": 200,
   "metadata": {},
   "outputs": [
    {
     "data": {
      "text/plain": [
       "(300, 29)"
      ]
     },
     "execution_count": 200,
     "metadata": {},
     "output_type": "execute_result"
    }
   ],
   "source": [
    "path_diff=[]\n",
    "for i in range(path_num):    \n",
    "    S_diff=[]\n",
    "    S_tem=path[i]\n",
    "    for i in range(1,len(S_tem)):\n",
    "        S_diff.append(S_tem[i]-S_tem[i-1])\n",
    "    S_diff=np.array(S_diff)\n",
    "    #S_diff=S_diff.reshape(-1,1)\n",
    "    S_diff=np.float32(S_diff)\n",
    "    path_diff.append(S_diff)\n",
    "path_dif=np.array(path_diff)\n",
    "path_dif.shape"
   ]
  },
  {
   "cell_type": "code",
   "execution_count": 201,
   "metadata": {},
   "outputs": [],
   "source": [
    "from math import log,sqrt,exp\n",
    "from scipy.stats import norm"
   ]
  },
  {
   "cell_type": "code",
   "execution_count": 202,
   "metadata": {},
   "outputs": [
    {
     "data": {
      "text/plain": [
       "array([0.07945205, 0.07671233, 0.0739726 , 0.07123288, 0.06849315,\n",
       "       0.06575342, 0.0630137 , 0.06027397, 0.05753425, 0.05479452,\n",
       "       0.05205479, 0.04931507, 0.04657534, 0.04383562, 0.04109589,\n",
       "       0.03835616, 0.03561644, 0.03287671, 0.03013699, 0.02739726,\n",
       "       0.02465753, 0.02191781, 0.01917808, 0.01643836, 0.01369863,\n",
       "       0.0109589 , 0.00821918, 0.00547945, 0.00273973])"
      ]
     },
     "execution_count": 202,
     "metadata": {},
     "output_type": "execute_result"
    }
   ],
   "source": [
    "rever_t=sorted(range(N),reverse=True)\n",
    "rever_t=rever_t[:-1]\n",
    "rever_t=np.array(rever_t)/365\n",
    "rever_t"
   ]
  },
  {
   "cell_type": "code",
   "execution_count": 203,
   "metadata": {},
   "outputs": [],
   "source": [
    "def call_option_pricer(spot,strike,maturity,r,vol):\n",
    "    d1=(log(spot/strike)+(r+0.5*vol*vol)*maturity)/(vol*sqrt(maturity))\n",
    "    d2=d1-vol*sqrt(maturity)\n",
    "    price=spot*norm.cdf(d1)-strike*exp(-r*maturity)*norm.cdf(d2)\n",
    "    return price"
   ]
  },
  {
   "cell_type": "code",
   "execution_count": 204,
   "metadata": {},
   "outputs": [
    {
     "name": "stdout",
     "output_type": "stream",
     "text": [
      "Wall time: 1.13 s\n"
     ]
    }
   ],
   "source": [
    "%%time\n",
    "Option_sam=[]\n",
    "for i in range(path_num):\n",
    "    S=path[i]\n",
    "    Option=[]\n",
    "    for j in range(len(S)-1):\n",
    "        price=call_option_pricer(S[j],100,rever_t[j],r,vol)\n",
    "        Option.append(price)\n",
    "    Option.append(max(S[-1]-S0,0))\n",
    "    Option=np.array(Option)\n",
    "    #Option=Option.reshape(-1,1)\n",
    "    Option_sam.append(Option)\n"
   ]
  },
  {
   "cell_type": "code",
   "execution_count": 205,
   "metadata": {},
   "outputs": [
    {
     "data": {
      "text/plain": [
       "(300, 30)"
      ]
     },
     "execution_count": 205,
     "metadata": {},
     "output_type": "execute_result"
    }
   ],
   "source": [
    "Option_samp=np.array(Option_sam)\n",
    "Option_samp.shape"
   ]
  },
  {
   "cell_type": "code",
   "execution_count": 206,
   "metadata": {},
   "outputs": [],
   "source": [
    "Nd_nor=[]\n",
    "for j in range(path_num):    \n",
    "    d_nor=[]\n",
    "    for i in range(len(rever_t)):\n",
    "        par1=1.0/(vol*math.sqrt(rever_t[i]))\n",
    "        par2=np.log(path[j][i]/S0)\n",
    "        par3=(r+(vol**2)/2)*(rever_t[i])\n",
    "        Nd=par1*(par2+par3)\n",
    "        d_nor.append(ss.norm.cdf(Nd))\n",
    "    Nd_nor.append(d_nor)"
   ]
  },
  {
   "cell_type": "code",
   "execution_count": 207,
   "metadata": {},
   "outputs": [],
   "source": [
    "hedge_set=[]\n",
    "for i in range(path_num):\n",
    "    hedge=[Option_samp[i][0].tolist()]\n",
    "    for j in range(len(Nd_nor[i])):\n",
    "        diff=path[i][j+1]-path[i][j]\n",
    "        hold=Nd_nor[i][j]*diff\n",
    "        hedge.append(hold)\n",
    "    \n",
    "    hedge=np.cumsum(hedge).tolist()\n",
    "    hedge_set.append(hedge)\n",
    "    "
   ]
  },
  {
   "cell_type": "code",
   "execution_count": 208,
   "metadata": {},
   "outputs": [],
   "source": [
    "hedge_set=np.array(hedge_set)"
   ]
  },
  {
   "cell_type": "code",
   "execution_count": 209,
   "metadata": {},
   "outputs": [
    {
     "data": {
      "image/png": "[encoded data removed]",
      "text/plain": [
       "<Figure size 432x288 with 1 Axes>"
      ]
     },
     "metadata": {
      "needs_background": "light"
     },
     "output_type": "display_data"
    }
   ],
   "source": [
    "plt.plot(time,Option_samp[0])\n",
    "plt.plot(time,hedge_set[0])\n",
    "plt.show()"
   ]
  },
  {
   "cell_type": "code",
   "execution_count": 210,
   "metadata": {},
   "outputs": [
    {
     "data": {
      "text/plain": [
       "0.041064787492770344"
      ]
     },
     "execution_count": 210,
     "metadata": {},
     "output_type": "execute_result"
    }
   ],
   "source": [
    "su1=0\n",
    "num=0\n",
    "for j in range(path_num):\n",
    "    for i in range(len(Option_samp[int(j)])):\n",
    "        k=Option_samp[int(j)][i].tolist()-hedge_set[int(j)][i]\n",
    "        j=k**2\n",
    "        su1+=j\n",
    "        num+=1\n",
    "su1/num"
   ]
  },
  {
   "cell_type": "markdown",
   "metadata": {},
   "source": [
    "Deep neural network for hedging without transaction cost"
   ]
  },
  {
   "cell_type": "code",
   "execution_count": 211,
   "metadata": {},
   "outputs": [
    {
     "data": {
      "text/plain": [
       "(300, 29, 1)"
      ]
     },
     "execution_count": 211,
     "metadata": {},
     "output_type": "execute_result"
    }
   ],
   "source": [
    "x_train=path[:,:-1]\n",
    "x_train=x_train.reshape(x_train.shape[0],x_train.shape[1],1)\n",
    "x_train.shape"
   ]
  },
  {
   "cell_type": "code",
   "execution_count": 212,
   "metadata": {},
   "outputs": [],
   "source": [
    "import tensorflow as tf"
   ]
  },
  {
   "cell_type": "code",
   "execution_count": 220,
   "metadata": {},
   "outputs": [],
   "source": [
    "RNN_CELLSIZE = 50\n",
    "SEQLEN = x_train.shape[1]\n",
    "BATCHSIZE = 1\n",
    "LR = 0.001"
   ]
  },
  {
   "cell_type": "code",
   "execution_count": 221,
   "metadata": {},
   "outputs": [],
   "source": [
    "class GRUModel(tf.keras.Model):\n",
    "    def __init__(self, batch_size, seq_length, cell_size):\n",
    "        super().__init__()\n",
    "        self.batch_size = batch_size\n",
    "        self.seq_length = seq_length\n",
    "        self.cell_size = cell_size\n",
    "    \n",
    "        self.layer1 = tf.keras.layers.Reshape((self.seq_length,1), batch_size = self.batch_size)\n",
    "        self.layer_GRU = tf.keras.layers.GRU(self.cell_size,activation='relu',return_sequences=True)\n",
    "        self.layer_GRU_last = tf.keras.layers.GRU(50,activation='relu')\n",
    "        self.layer_dense = tf.keras.layers.Dense(29)\n",
    "  \n",
    "    def call(self, inputs):\n",
    "        x = self.layer1(inputs)\n",
    "        x = self.layer_GRU(x)\n",
    "        x = self.layer_GRU_last(x)\n",
    "        output = self.layer_dense(x)\n",
    "        return output"
   ]
  },
  {
   "cell_type": "code",
   "execution_count": 215,
   "metadata": {},
   "outputs": [
    {
     "data": {
      "text/plain": [
       "(300, 30)"
      ]
     },
     "execution_count": 215,
     "metadata": {},
     "output_type": "execute_result"
    }
   ],
   "source": [
    "Option_samp.shape"
   ]
  },
  {
   "cell_type": "code",
   "execution_count": 216,
   "metadata": {},
   "outputs": [],
   "source": [
    "def loss_function1(x,S_diff,option):\n",
    "    diff=[]\n",
    "    for j in range(option.shape[0]):        \n",
    "        a=[option[j][0]]\n",
    "        for i in range(len(x[j])):\n",
    "            add=x[j][i]*S_diff[j][i]\n",
    "            a.append(add)\n",
    "        d=tf.cumsum(a)\n",
    "        b=option[j]-d\n",
    "        c=tf.abs(b[-1])\n",
    "        diff.append(c)\n",
    "    return diff"
   ]
  },
  {
   "cell_type": "code",
   "execution_count": 442,
   "metadata": {},
   "outputs": [],
   "source": [
    "di=loss_function1(Nd_nor,path_diff,Option_samp)\n",
    "#di"
   ]
  },
  {
   "cell_type": "markdown",
   "metadata": {},
   "source": [
    "Used Expected Shortfall as loss functions"
   ]
  },
  {
   "cell_type": "code",
   "execution_count": 149,
   "metadata": {},
   "outputs": [],
   "source": [
    "def loss_fun1(price):\n",
    "    res=0\n",
    "    for i in range(len(price)):\n",
    "        e=np.percentile(price[i],50)\n",
    "        ES=0\n",
    "        n=0\n",
    "        for j in range(len(price[i])):\n",
    "            if tf.greater(price[i][j],e):\n",
    "                ES+=price[i][j]\n",
    "                n+=1\n",
    "        ES1=ES/n\n",
    "        res+=ES1\n",
    "    res1=res/len(price)\n",
    "    return res1"
   ]
  },
  {
   "cell_type": "markdown",
   "metadata": {},
   "source": [
    "Used a weighted average of Expected Shortfall with different parameters as a loss function"
   ]
  },
  {
   "cell_type": "code",
   "execution_count": 25,
   "metadata": {},
   "outputs": [],
   "source": [
    "def loss_fun3(price):\n",
    "    res=0\n",
    "    for i in range(len(price)):\n",
    "        e1=np.percentile(price[i],50)\n",
    "        e2=np.percentile(price[i],95)\n",
    "        beta=0.05\n",
    "        ES1=0\n",
    "        ES2=0\n",
    "        m=0\n",
    "        n=0\n",
    "        for j in range(len(price[i])):\n",
    "            if tf.greater(price[i][j],e1):\n",
    "                ES1+=price[i][j]\n",
    "                n+=1\n",
    "            if tf.greater(price[i][j],e2):\n",
    "                ES2+=price[i][j]\n",
    "                m+=1\n",
    "        ES11=ES1/n\n",
    "        ES21=ES2/m\n",
    "        con=(1.0/(1+beta))*(ES11+beta*ES21)\n",
    "        res+=con\n",
    "    res1=res/len(price)\n",
    "    return res1"
   ]
  },
  {
   "cell_type": "code",
   "execution_count": 62,
   "metadata": {},
   "outputs": [],
   "source": [
    "def loss_fun2(price):\n",
    "    hold=[]\n",
    "    for i in range(len(price)):\n",
    "        for j in range(len(price[i])):\n",
    "            hold.append(price[i][j])\n",
    "    e1=np.percentile(hold,95)\n",
    "    e2=np.percentile(hold,50)\n",
    "    beta=0.05\n",
    "    ES1=0\n",
    "    ES2=0\n",
    "    m=0\n",
    "    n=0\n",
    "    for j in range(len(hold)):\n",
    "        if tf.greater(hold[j],e1):\n",
    "            ES1+=hold[j]\n",
    "            n+=1\n",
    "        if tf.greater(hold[j],e2):\n",
    "            ES2+=hold[j]\n",
    "            m+=1\n",
    "    ES11=ES1/n\n",
    "    ES21=ES2/m\n",
    "    con=(1.0/(1+beta))*(ES11+beta*ES21)\n",
    "    return con"
   ]
  },
  {
   "cell_type": "code",
   "execution_count": 222,
   "metadata": {},
   "outputs": [],
   "source": [
    "model = GRUModel(BATCHSIZE, SEQLEN,RNN_CELLSIZE)\n",
    "optimizer = tf.keras.optimizers.Adam(learning_rate = LR)"
   ]
  },
  {
   "cell_type": "code",
   "execution_count": 223,
   "metadata": {},
   "outputs": [
    {
     "name": "stdout",
     "output_type": "stream",
     "text": [
      "WARNING:tensorflow:Layer gru_model_5 is casting an input tensor from dtype float64 to the layer's dtype of float32, which is new behavior in TensorFlow 2.  The layer has dtype float32 because it's dtype defaults to floatx.\n",
      "\n",
      "If you intended to run this layer in float32, you can safely ignore this warning. If in doubt, this warning is likely only an issue if you are porting a TensorFlow 1.X model to TensorFlow 2.\n",
      "\n",
      "To change all layers to have dtype float64 by default, call `tf.keras.backend.set_floatx('float64')`. To change just this layer, pass dtype='float64' to the layer constructor. If you are the author of this layer, you can disable autocasting by passing autocast=False to the base Layer constructor.\n",
      "\n",
      "epoch: 0, loss: 14.44222354888916\n",
      "epoch: 1, loss: 12.844446182250977\n",
      "epoch: 2, loss: 11.48932933807373\n",
      "epoch: 3, loss: 10.316974639892578\n",
      "epoch: 4, loss: 9.274782180786133\n",
      "epoch: 5, loss: 8.35815143585205\n",
      "epoch: 6, loss: 7.542582035064697\n",
      "epoch: 7, loss: 6.8206467628479\n",
      "epoch: 8, loss: 6.205434322357178\n",
      "epoch: 9, loss: 5.6686530113220215\n",
      "epoch: 10, loss: 5.183105945587158\n",
      "epoch: 11, loss: 4.773231029510498\n",
      "epoch: 12, loss: 4.45538854598999\n",
      "epoch: 13, loss: 4.208028793334961\n",
      "epoch: 14, loss: 4.038062572479248\n",
      "epoch: 15, loss: 3.9049975872039795\n",
      "epoch: 16, loss: 3.725738048553467\n",
      "epoch: 17, loss: 3.4918339252471924\n",
      "epoch: 18, loss: 3.2452502250671387\n",
      "epoch: 19, loss: 3.0335521697998047\n",
      "epoch: 20, loss: 2.8376047611236572\n",
      "epoch: 21, loss: 2.661444664001465\n",
      "epoch: 22, loss: 2.508824348449707\n",
      "epoch: 23, loss: 2.3750791549682617\n",
      "epoch: 24, loss: 2.254990816116333\n",
      "epoch: 25, loss: 2.1464033126831055\n",
      "epoch: 26, loss: 2.0473058223724365\n",
      "epoch: 27, loss: 1.9605623483657837\n",
      "epoch: 28, loss: 1.8848689794540405\n",
      "epoch: 29, loss: 1.8191746473312378\n",
      "epoch: 30, loss: 1.759883165359497\n",
      "epoch: 31, loss: 1.7068729400634766\n",
      "epoch: 32, loss: 1.659406065940857\n",
      "epoch: 33, loss: 1.6151286363601685\n",
      "epoch: 34, loss: 1.5662877559661865\n",
      "epoch: 35, loss: 1.51296865940094\n",
      "epoch: 36, loss: 1.4608707427978516\n",
      "epoch: 37, loss: 1.4166243076324463\n",
      "epoch: 38, loss: 1.3827869892120361\n",
      "epoch: 39, loss: 1.3567904233932495\n",
      "epoch: 40, loss: 1.332977294921875\n",
      "epoch: 41, loss: 1.3092280626296997\n",
      "epoch: 42, loss: 1.2857911586761475\n",
      "epoch: 43, loss: 1.2632592916488647\n",
      "epoch: 44, loss: 1.2418349981307983\n",
      "epoch: 45, loss: 1.2219942808151245\n",
      "epoch: 46, loss: 1.2043126821517944\n",
      "epoch: 47, loss: 1.18948233127594\n",
      "epoch: 48, loss: 1.1771330833435059\n",
      "epoch: 49, loss: 1.1669758558273315\n",
      "epoch: 50, loss: 1.1582943201065063\n",
      "epoch: 51, loss: 1.1505894660949707\n",
      "epoch: 52, loss: 1.141838788986206\n",
      "epoch: 53, loss: 1.1309853792190552\n",
      "epoch: 54, loss: 1.1184629201889038\n",
      "epoch: 55, loss: 1.1066654920578003\n",
      "epoch: 56, loss: 1.0969083309173584\n",
      "epoch: 57, loss: 1.0894867181777954\n",
      "epoch: 58, loss: 1.0836982727050781\n",
      "epoch: 59, loss: 1.0782328844070435\n",
      "epoch: 60, loss: 1.0719996690750122\n",
      "epoch: 61, loss: 1.0651297569274902\n",
      "epoch: 62, loss: 1.058553695678711\n",
      "epoch: 63, loss: 1.0525959730148315\n",
      "epoch: 64, loss: 1.0469025373458862\n",
      "epoch: 65, loss: 1.039448618888855\n",
      "epoch: 66, loss: 1.033393144607544\n",
      "epoch: 67, loss: 1.0270888805389404\n",
      "epoch: 68, loss: 1.0208001136779785\n",
      "epoch: 69, loss: 1.0157060623168945\n",
      "epoch: 70, loss: 1.0090562105178833\n",
      "epoch: 71, loss: 1.002816915512085\n",
      "epoch: 72, loss: 0.9953349828720093\n",
      "epoch: 73, loss: 0.9885863065719604\n",
      "epoch: 74, loss: 0.9800552129745483\n",
      "epoch: 75, loss: 0.9729719758033752\n",
      "epoch: 76, loss: 0.9645696878433228\n",
      "epoch: 77, loss: 0.9583761692047119\n",
      "epoch: 78, loss: 0.9540764093399048\n",
      "epoch: 79, loss: 0.9451720118522644\n",
      "epoch: 80, loss: 0.9386231303215027\n",
      "epoch: 81, loss: 0.9339876174926758\n",
      "epoch: 82, loss: 0.924860417842865\n",
      "epoch: 83, loss: 0.9218996167182922\n",
      "epoch: 84, loss: 0.9156770706176758\n",
      "epoch: 85, loss: 0.905839204788208\n",
      "epoch: 86, loss: 0.9042819142341614\n",
      "epoch: 87, loss: 0.8967148065567017\n",
      "epoch: 88, loss: 0.8890677094459534\n",
      "epoch: 89, loss: 0.8882485032081604\n",
      "epoch: 90, loss: 0.8794040679931641\n",
      "epoch: 91, loss: 0.8738937377929688\n",
      "epoch: 92, loss: 0.8751174807548523\n",
      "epoch: 93, loss: 0.8622625470161438\n",
      "epoch: 94, loss: 0.8630948662757874\n",
      "epoch: 95, loss: 0.8585432171821594\n",
      "epoch: 96, loss: 0.8506098985671997\n",
      "epoch: 97, loss: 0.8565343022346497\n",
      "epoch: 98, loss: 0.8470684289932251\n",
      "epoch: 99, loss: 0.8434102535247803\n",
      "epoch: 100, loss: 0.8447543978691101\n",
      "epoch: 101, loss: 0.83758544921875\n",
      "epoch: 102, loss: 0.8375878930091858\n",
      "epoch: 103, loss: 0.8359624147415161\n",
      "epoch: 104, loss: 0.8316697478294373\n",
      "epoch: 105, loss: 0.832146167755127\n",
      "epoch: 106, loss: 0.8304837346076965\n",
      "epoch: 107, loss: 0.8267868161201477\n",
      "epoch: 108, loss: 0.827237069606781\n",
      "epoch: 109, loss: 0.8243700265884399\n",
      "epoch: 110, loss: 0.8222392201423645\n",
      "epoch: 111, loss: 0.8219553232192993\n",
      "epoch: 112, loss: 0.8193960785865784\n",
      "epoch: 113, loss: 0.8179572820663452\n",
      "epoch: 114, loss: 0.817525327205658\n",
      "epoch: 115, loss: 0.8148149847984314\n",
      "epoch: 116, loss: 0.813737690448761\n",
      "epoch: 117, loss: 0.8129239678382874\n",
      "epoch: 118, loss: 0.8108338713645935\n",
      "epoch: 119, loss: 0.8097501397132874\n",
      "epoch: 120, loss: 0.8086889386177063\n",
      "epoch: 121, loss: 0.806879997253418\n",
      "epoch: 122, loss: 0.8056412935256958\n",
      "epoch: 123, loss: 0.8044350147247314\n",
      "epoch: 124, loss: 0.8030168414115906\n",
      "epoch: 125, loss: 0.8019818067550659\n",
      "epoch: 126, loss: 0.8006553053855896\n",
      "epoch: 127, loss: 0.79939866065979\n",
      "epoch: 128, loss: 0.7983003258705139\n",
      "epoch: 129, loss: 0.7969796061515808\n",
      "epoch: 130, loss: 0.795911967754364\n",
      "epoch: 131, loss: 0.7949065566062927\n",
      "epoch: 132, loss: 0.7938429117202759\n",
      "epoch: 133, loss: 0.7925257682800293\n",
      "epoch: 134, loss: 0.7916578054428101\n",
      "epoch: 135, loss: 0.790637731552124\n",
      "epoch: 136, loss: 0.789229691028595\n",
      "epoch: 137, loss: 0.7883861660957336\n",
      "epoch: 138, loss: 0.7873290777206421\n",
      "epoch: 139, loss: 0.7860599756240845\n",
      "epoch: 140, loss: 0.7849388718605042\n",
      "epoch: 141, loss: 0.7840043306350708\n",
      "epoch: 142, loss: 0.7828842401504517\n",
      "epoch: 143, loss: 0.7817755341529846\n",
      "epoch: 144, loss: 0.7807955145835876\n",
      "epoch: 145, loss: 0.7797225117683411\n",
      "epoch: 146, loss: 0.778685450553894\n",
      "epoch: 147, loss: 0.7776235938072205\n",
      "epoch: 148, loss: 0.7767229676246643\n",
      "epoch: 149, loss: 0.7758005857467651\n"
     ]
    }
   ],
   "source": [
    "for epoch in range(150):\n",
    "    with tf.GradientTape() as tape:\n",
    "        y_pred = model(x_train)\n",
    "        #print(y_pred)\n",
    "        price=loss_function1(y_pred, path_diff,Option_samp)\n",
    "        loss=loss_fun3(price)\n",
    "        if epoch%1 == 0:\n",
    "            print(\"epoch: {}, loss: {}\".format(epoch, loss))\n",
    "  \n",
    "    grads = tape.gradient(loss, model.variables)\n",
    "    optimizer.apply_gradients(zip(grads,model.variables))"
   ]
  },
  {
   "cell_type": "markdown",
   "metadata": {},
   "source": [
    "test sample"
   ]
  },
  {
   "cell_type": "code",
   "execution_count": 521,
   "metadata": {},
   "outputs": [],
   "source": [
    "test_num=500  #We could set the number of test samples. Here we choose 500 test samples\n",
    "test_path=[]\n",
    "for i in range(test_num):\n",
    "    rand=np.random.standard_normal(size=N)\n",
    "    S=np.zeros_like(rand)\n",
    "    S[0]=S0\n",
    "    for i in range(1,N):\n",
    "        S[i]=S[i-1]*np.exp((r-vol**2/2)*dt+vol*rand[i]*math.sqrt(dt))\n",
    "    test_path.append(S)"
   ]
  },
  {
   "cell_type": "code",
   "execution_count": 522,
   "metadata": {},
   "outputs": [
    {
     "data": {
      "image/png": "[encoded data removed]",
      "text/plain": [
       "<Figure size 432x288 with 1 Axes>"
      ]
     },
     "metadata": {
      "needs_background": "light"
     },
     "output_type": "display_data"
    }
   ],
   "source": [
    "test_S_sam=test_path[0]\n",
    "time=range(len(test_S_sam))\n",
    "time=np.array(time)/365\n",
    "plt.xlabel('time')\n",
    "plt.ylabel('price')\n",
    "plt.title(u'GBM')\n",
    "plt.plot(time,test_S_sam)\n",
    "plt.show()"
   ]
  },
  {
   "cell_type": "code",
   "execution_count": 523,
   "metadata": {},
   "outputs": [
    {
     "data": {
      "text/plain": [
       "(500, 30)"
      ]
     },
     "execution_count": 523,
     "metadata": {},
     "output_type": "execute_result"
    }
   ],
   "source": [
    "test_path=np.array(test_path)\n",
    "test_path.shape"
   ]
  },
  {
   "cell_type": "markdown",
   "metadata": {},
   "source": [
    "Black-Scholes Model hedge"
   ]
  },
  {
   "cell_type": "code",
   "execution_count": 524,
   "metadata": {},
   "outputs": [],
   "source": [
    "def call_option_price(spot,strike,maturity,r,vol):\n",
    "    pricer=[]\n",
    "    for i in range(len(spot)):\n",
    "        pricer1=[]\n",
    "        for j in range(len(spot[i])-1):\n",
    "            spot1=spot[i][j]\n",
    "            d1=(log(spot1/strike)+(r+0.5*vol*vol)*maturity[j])/(vol*sqrt(maturity[j]))\n",
    "            d2=d1-vol*sqrt(maturity[j])\n",
    "            price=spot1*norm.cdf(d1)-strike*exp(-r*maturity[j])*norm.cdf(d2)\n",
    "            pricer1.append(price)\n",
    "        pricer1.append(max(spot[i][-1]-100,0))\n",
    "        pricer.append(pricer1)\n",
    "    pricer=np.array(pricer)\n",
    "    return pricer"
   ]
  },
  {
   "cell_type": "code",
   "execution_count": 525,
   "metadata": {},
   "outputs": [
    {
     "name": "stdout",
     "output_type": "stream",
     "text": [
      "Wall time: 1.87 s\n"
     ]
    }
   ],
   "source": [
    "%%time\n",
    "test_Option_sam=call_option_price(test_path,100,rever_t,r,vol)\n",
    "test_Option_sam"
   ]
  },
  {
   "cell_type": "code",
   "execution_count": 526,
   "metadata": {},
   "outputs": [
    {
     "data": {
      "text/plain": [
       "500"
      ]
     },
     "execution_count": 526,
     "metadata": {},
     "output_type": "execute_result"
    }
   ],
   "source": [
    "len(test_Option_sam)"
   ]
  },
  {
   "cell_type": "code",
   "execution_count": 527,
   "metadata": {},
   "outputs": [],
   "source": [
    "def hedge_ratio(path_num,rever_t,path,S0,vol,r):\n",
    "    te=[]\n",
    "    for j in range(path_num):    \n",
    "        d_nor=[]\n",
    "        for i in range(len(rever_t)):\n",
    "            par1=1.0/(vol*math.sqrt(rever_t[i]))\n",
    "            par2=np.log(path[j][i]/S0)\n",
    "            par3=(r+(vol**2)/2)*(rever_t[i])\n",
    "            Nd=par1*(par2+par3)\n",
    "            d_nor.append(ss.norm.cdf(Nd))\n",
    "        te.append(d_nor)\n",
    "    return te"
   ]
  },
  {
   "cell_type": "code",
   "execution_count": 528,
   "metadata": {},
   "outputs": [],
   "source": [
    "test_Nor=hedge_ratio(test_num,rever_t,test_path,S0,vol,r)\n"
   ]
  },
  {
   "cell_type": "code",
   "execution_count": 529,
   "metadata": {},
   "outputs": [
    {
     "data": {
      "text/plain": [
       "500"
      ]
     },
     "execution_count": 529,
     "metadata": {},
     "output_type": "execute_result"
    }
   ],
   "source": [
    "len(test_Nor)"
   ]
  },
  {
   "cell_type": "code",
   "execution_count": 530,
   "metadata": {},
   "outputs": [],
   "source": [
    "def hedge_set1(path_num,rever_t,Option_samp,Nd_nor,path):\n",
    "    hedge_set=[]\n",
    "    for i in range(path_num):\n",
    "        hedge=[Option_samp[i][0].tolist()]\n",
    "        for j in range(len(Nd_nor[i])):\n",
    "            diff=path[i][j+1]-path[i][j]\n",
    "            hold=Nd_nor[i][j]*diff\n",
    "            hedge.append(hold)\n",
    "    \n",
    "        hedge=np.cumsum(hedge).tolist()\n",
    "        hedge_set.append(hedge)\n",
    "    hedge_set=np.array(hedge_set)\n",
    "    return hedge_set\n"
   ]
  },
  {
   "cell_type": "code",
   "execution_count": 531,
   "metadata": {},
   "outputs": [],
   "source": [
    "test_hedge=hedge_set1(test_num,rever_t,test_Option_sam,test_Nor,test_path)"
   ]
  },
  {
   "cell_type": "code",
   "execution_count": 532,
   "metadata": {},
   "outputs": [
    {
     "data": {
      "text/plain": [
       "(500, 30)"
      ]
     },
     "execution_count": 532,
     "metadata": {},
     "output_type": "execute_result"
    }
   ],
   "source": [
    "test_hedge.shape"
   ]
  },
  {
   "cell_type": "markdown",
   "metadata": {},
   "source": [
    "Example of Black-Scholes Model hedge"
   ]
  },
  {
   "cell_type": "code",
   "execution_count": 533,
   "metadata": {},
   "outputs": [
    {
     "data": {
      "image/png": "[encoded data removed]",
      "text/plain": [
       "<Figure size 432x288 with 1 Axes>"
      ]
     },
     "metadata": {
      "needs_background": "light"
     },
     "output_type": "display_data"
    }
   ],
   "source": [
    "plt.plot(time,test_Option_sam[15])\n",
    "plt.plot(time,test_hedge[15])\n",
    "plt.show()"
   ]
  },
  {
   "cell_type": "markdown",
   "metadata": {},
   "source": [
    "Mean squared hedging loss of Black-Scholes Model hedge"
   ]
  },
  {
   "cell_type": "code",
   "execution_count": 534,
   "metadata": {},
   "outputs": [
    {
     "data": {
      "text/plain": [
       "0.051060322131737106"
      ]
     },
     "execution_count": 534,
     "metadata": {},
     "output_type": "execute_result"
    }
   ],
   "source": [
    "su1=0\n",
    "num=0\n",
    "hist_model=[]\n",
    "for j in range(test_num):\n",
    "    for i in range(len(test_Option_sam[int(j)])):\n",
    "        k=test_Option_sam[int(j)][i].tolist()-test_hedge[int(j)][i]\n",
    "        hist_model.append(k)\n",
    "        err=k**2\n",
    "        su1+=err\n",
    "        num+=1\n",
    "su1/num"
   ]
  },
  {
   "cell_type": "markdown",
   "metadata": {},
   "source": [
    "network hedge"
   ]
  },
  {
   "cell_type": "code",
   "execution_count": 535,
   "metadata": {},
   "outputs": [],
   "source": [
    "y_test=model.predict(test_path[:,:-1])"
   ]
  },
  {
   "cell_type": "code",
   "execution_count": 536,
   "metadata": {},
   "outputs": [
    {
     "data": {
      "text/plain": [
       "(500, 29)"
      ]
     },
     "execution_count": 536,
     "metadata": {},
     "output_type": "execute_result"
    }
   ],
   "source": [
    "y_test.shape"
   ]
  },
  {
   "cell_type": "code",
   "execution_count": 537,
   "metadata": {},
   "outputs": [],
   "source": [
    "op_te=hedge_set1(test_num,rever_t,test_Option_sam,y_test,test_path)"
   ]
  },
  {
   "cell_type": "markdown",
   "metadata": {},
   "source": [
    "Example of the network hedge"
   ]
  },
  {
   "cell_type": "code",
   "execution_count": 538,
   "metadata": {},
   "outputs": [
    {
     "data": {
      "image/png": "[encoded data removed]",
      "text/plain": [
       "<Figure size 432x288 with 1 Axes>"
      ]
     },
     "metadata": {
      "needs_background": "light"
     },
     "output_type": "display_data"
    }
   ],
   "source": [
    "plt.plot(time,test_Option_sam[16])\n",
    "plt.plot(time,op_te[16])\n",
    "plt.show()"
   ]
  },
  {
   "cell_type": "code",
   "execution_count": 539,
   "metadata": {},
   "outputs": [
    {
     "data": {
      "text/plain": [
       "(500, 30)"
      ]
     },
     "execution_count": 539,
     "metadata": {},
     "output_type": "execute_result"
    }
   ],
   "source": [
    "op_te.shape"
   ]
  },
  {
   "cell_type": "markdown",
   "metadata": {},
   "source": [
    "Mean squared hedging loss of network hedge"
   ]
  },
  {
   "cell_type": "code",
   "execution_count": 540,
   "metadata": {},
   "outputs": [
    {
     "data": {
      "text/plain": [
       "0.42756072210871315"
      ]
     },
     "execution_count": 540,
     "metadata": {},
     "output_type": "execute_result"
    }
   ],
   "source": [
    "su1=0\n",
    "num=0\n",
    "hist_model1=[]\n",
    "for j in range(test_num):\n",
    "    for i in range(len(test_Option_sam[int(j)])):\n",
    "        k=test_Option_sam[int(j)][i].tolist()-op_te[int(j)][i]\n",
    "        hist_model1.append(k)\n",
    "        err=k**2\n",
    "        su1+=err\n",
    "        num+=1\n",
    "su1/num"
   ]
  },
  {
   "cell_type": "markdown",
   "metadata": {},
   "source": [
    "Distribution of hedging error of Black-Scholes Model hedge"
   ]
  },
  {
   "cell_type": "code",
   "execution_count": 543,
   "metadata": {},
   "outputs": [
    {
     "data": {
      "image/png": "[encoded data removed]",
      "text/plain": [
       "<Figure size 432x288 with 1 Axes>"
      ]
     },
     "metadata": {
      "needs_background": "light"
     },
     "output_type": "display_data"
    }
   ],
   "source": [
    "plt.hist(hist_model,bins=100)  #Distribution of hedging error of Black-Scholes Model hedge\n",
    "plt.title('Distribution of hedging error of Black-Scholes Model hedge')\n",
    "plt.show()"
   ]
  },
  {
   "cell_type": "markdown",
   "metadata": {},
   "source": [
    "Distribution of hedging error of network hedge"
   ]
  },
  {
   "cell_type": "code",
   "execution_count": 544,
   "metadata": {},
   "outputs": [
    {
     "data": {
      "image/png": "[encoded data removed]",
      "text/plain": [
       "<Figure size 432x288 with 1 Axes>"
      ]
     },
     "metadata": {
      "needs_background": "light"
     },
     "output_type": "display_data"
    }
   ],
   "source": [
    "plt.hist(hist_model1,bins=100)  #Distribution of hedging error of network hedge\n",
    "plt.title('Distribution of hedging error of network hedge')  \n",
    "plt.show()"
   ]
  },
  {
   "cell_type": "markdown",
   "metadata": {},
   "source": [
    "Since we only simulate 300 sample paths as training samples, the mean squared hedging loss of network hedge is a bit larger than that of Black-Scholes Model hedge. With the increasing number of training samples, network hedge will be able to replicate the Black-Scholes hedge reasonably well and even outperforms the Black-Scholes hedge."
   ]
  },
  {
   "cell_type": "code",
   "execution_count": null,
   "metadata": {},
   "outputs": [],
   "source": []
  }
 ],
 "metadata": {
  "kernelspec": {
   "display_name": "Python 3",
   "language": "python",
   "name": "python3"
  },
  "language_info": {
   "codemirror_mode": {
    "name": "ipython",
    "version": 3
   },
   "file_extension": ".py",
   "mimetype": "text/x-python",
   "name": "python",
   "nbconvert_exporter": "python",
   "pygments_lexer": "ipython3",
   "version": "3.7.0"
  }
 },
 "nbformat": 4,
 "nbformat_minor": 2
}
