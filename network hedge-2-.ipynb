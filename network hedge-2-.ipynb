{
 "cells": [
  {
   "cell_type": "code",
   "execution_count": 1,
   "metadata": {},
   "outputs": [],
   "source": [
    "import numpy as np\n",
    "import matplotlib.pyplot as plt\n",
    "import pandas as pd\n",
    "import scipy.stats as ss\n",
    "import tensorflow as tf\n",
    "import math\n",
    "import random"
   ]
  },
  {
   "cell_type": "markdown",
   "metadata": {},
   "source": [
    "Parameter initialization"
   ]
  },
  {
   "cell_type": "code",
   "execution_count": 2,
   "metadata": {},
   "outputs": [],
   "source": [
    "T=30/365\n",
    "dt=1/365\n",
    "N=round(T/dt)\n",
    "t=np.linspace(0,T,N)\n",
    "vol=0.2\n",
    "r=0\n",
    "cost=0.002\n",
    "S0=100\n",
    "cost=0.002"
   ]
  },
  {
   "cell_type": "markdown",
   "metadata": {},
   "source": [
    "Generated sample paths by GBM model"
   ]
  },
  {
   "cell_type": "code",
   "execution_count": 3,
   "metadata": {},
   "outputs": [],
   "source": [
    "path_num=300  #We set the number of the sample paths. Here we choose 300 for the sake of simplicity\n",
    "path=[]\n",
    "for i in range(path_num):\n",
    "    rand=np.random.standard_normal(size=N)\n",
    "    S=np.zeros_like(rand)\n",
    "    S[0]=S0\n",
    "    for i in range(1,N):\n",
    "        S[i]=S[i-1]*np.exp((r-vol**2/2)*dt+vol*rand[i]*math.sqrt(dt))\n",
    "    path.append(S)"
   ]
  },
  {
   "cell_type": "code",
   "execution_count": 4,
   "metadata": {},
   "outputs": [],
   "source": [
    "path=np.array(path)"
   ]
  },
  {
   "cell_type": "markdown",
   "metadata": {},
   "source": [
    "Visualized one of the sample"
   ]
  },
  {
   "cell_type": "code",
   "execution_count": 5,
   "metadata": {},
   "outputs": [
    {
     "data": {
      "image/png": "[encoded data removed]",
      "text/plain": [
       "<Figure size 432x288 with 1 Axes>"
      ]
     },
     "metadata": {
      "needs_background": "light"
     },
     "output_type": "display_data"
    }
   ],
   "source": [
    "S_sam=path[0]\n",
    "time=range(len(S_sam))\n",
    "time=np.array(time)/365\n",
    "plt.xlabel('time')\n",
    "plt.ylabel('price')\n",
    "plt.title(u'GBM')\n",
    "plt.plot(time,S_sam)\n",
    "plt.show()"
   ]
  },
  {
   "cell_type": "markdown",
   "metadata": {},
   "source": [
    "Cost-adjusted volatility of Leland model"
   ]
  },
  {
   "cell_type": "code",
   "execution_count": 6,
   "metadata": {},
   "outputs": [
    {
     "data": {
      "text/plain": [
       "0.22846192353303973"
      ]
     },
     "execution_count": 6,
     "metadata": {},
     "output_type": "execute_result"
    }
   ],
   "source": [
    "le_vol=np.sqrt(vol**2*(1+(2*cost/vol)*np.sqrt(2/(math.pi*dt))))\n",
    "le_vol"
   ]
  },
  {
   "cell_type": "markdown",
   "metadata": {},
   "source": [
    "Calculated the option prices"
   ]
  },
  {
   "cell_type": "code",
   "execution_count": 7,
   "metadata": {},
   "outputs": [
    {
     "data": {
      "text/plain": [
       "(300, 29)"
      ]
     },
     "execution_count": 7,
     "metadata": {},
     "output_type": "execute_result"
    }
   ],
   "source": [
    "path_diff=[]\n",
    "for i in range(path_num):    \n",
    "    S_diff=[]\n",
    "    S_tem=path[i]\n",
    "    for i in range(1,len(S_tem)):\n",
    "        S_diff.append(S_tem[i]-S_tem[i-1])\n",
    "    S_diff=np.array(S_diff)\n",
    "    #S_diff=S_diff.reshape(-1,1)\n",
    "    S_diff=np.float32(S_diff)\n",
    "    path_diff.append(S_diff)\n",
    "path_dif=np.array(path_diff)\n",
    "path_dif.shape"
   ]
  },
  {
   "cell_type": "code",
   "execution_count": 8,
   "metadata": {},
   "outputs": [],
   "source": [
    "from math import log,sqrt,exp\n",
    "from scipy.stats import norm"
   ]
  },
  {
   "cell_type": "code",
   "execution_count": 9,
   "metadata": {},
   "outputs": [],
   "source": [
    "def call_option_pricer(spot,strike,maturity,r,vol):\n",
    "    d1=(log(spot/strike)+(r+0.5*vol*vol)*maturity)/(vol*sqrt(maturity))\n",
    "    d2=d1-vol*sqrt(maturity)\n",
    "    price=spot*norm.cdf(d1)-strike*exp(-r*maturity)*norm.cdf(d2)\n",
    "    return price"
   ]
  },
  {
   "cell_type": "code",
   "execution_count": 10,
   "metadata": {},
   "outputs": [
    {
     "data": {
      "text/plain": [
       "array([0.07945205, 0.07671233, 0.0739726 , 0.07123288, 0.06849315,\n",
       "       0.06575342, 0.0630137 , 0.06027397, 0.05753425, 0.05479452,\n",
       "       0.05205479, 0.04931507, 0.04657534, 0.04383562, 0.04109589,\n",
       "       0.03835616, 0.03561644, 0.03287671, 0.03013699, 0.02739726,\n",
       "       0.02465753, 0.02191781, 0.01917808, 0.01643836, 0.01369863,\n",
       "       0.0109589 , 0.00821918, 0.00547945, 0.00273973])"
      ]
     },
     "execution_count": 10,
     "metadata": {},
     "output_type": "execute_result"
    }
   ],
   "source": [
    "rever_t=sorted(range(N),reverse=True)\n",
    "rever_t=rever_t[:-1]\n",
    "rever_t=np.array(rever_t)/365\n",
    "rever_t"
   ]
  },
  {
   "cell_type": "code",
   "execution_count": 11,
   "metadata": {},
   "outputs": [
    {
     "name": "stdout",
     "output_type": "stream",
     "text": [
      "Wall time: 1.18 s\n"
     ]
    }
   ],
   "source": [
    "%%time\n",
    "Option_sam=[]\n",
    "for i in range(path_num):\n",
    "    S=path[i]\n",
    "    Option=[]\n",
    "    for j in range(len(S)-1):\n",
    "        price=call_option_pricer(S[j],100,rever_t[j],r,le_vol)\n",
    "        Option.append(price)\n",
    "    Option.append(max(S[-1]-S0,0))\n",
    "    Option=np.array(Option)\n",
    "    #Option=Option.reshape(-1,1)\n",
    "    Option_sam.append(Option)"
   ]
  },
  {
   "cell_type": "code",
   "execution_count": 12,
   "metadata": {},
   "outputs": [
    {
     "data": {
      "text/plain": [
       "(300, 30)"
      ]
     },
     "execution_count": 12,
     "metadata": {},
     "output_type": "execute_result"
    }
   ],
   "source": [
    "Option_samp=np.array(Option_sam)\n",
    "Option_samp.shape"
   ]
  },
  {
   "cell_type": "code",
   "execution_count": 13,
   "metadata": {},
   "outputs": [],
   "source": [
    "Nd_nor=[]\n",
    "for j in range(path_num):    \n",
    "    d_nor=[]\n",
    "    for i in range(len(rever_t)):\n",
    "        par1=1.0/(le_vol*math.sqrt(rever_t[i]))\n",
    "        par2=np.log(path[j][i]/S0)\n",
    "        par3=(r+(le_vol**2)/2)*(rever_t[i])\n",
    "        Nd=par1*(par2+par3)\n",
    "        d_nor.append(ss.norm.cdf(Nd))\n",
    "    Nd_nor.append(d_nor)"
   ]
  },
  {
   "cell_type": "code",
   "execution_count": 125,
   "metadata": {},
   "outputs": [],
   "source": [
    "Nd_nor_diff=[]\n",
    "for i in range(len(Nd_nor)):\n",
    "    d_nor_diff=[Nd_nor[i][0]]\n",
    "    for j in range(len(Nd_nor[i])-1):\n",
    "        d_nor_diff.append(Nd_nor[i][j+1]-Nd_nor[i][j])\n",
    "    Nd_nor_diff.append(d_nor_diff)\n",
    "#Nd_nor_diff"
   ]
  },
  {
   "cell_type": "code",
   "execution_count": 15,
   "metadata": {},
   "outputs": [],
   "source": [
    "hedge_set=[]\n",
    "for i in range(path_num):\n",
    "    hedge=[Option_samp[i][0].tolist()]\n",
    "    for j in range(len(Nd_nor[i])):\n",
    "        diff=path[i][j+1]-path[i][j]\n",
    "        hold=Nd_nor[i][j]*diff-Nd_nor_diff[i][j]*cost*path[i][j+1]\n",
    "        hedge.append(hold)\n",
    "    \n",
    "    hedge=np.cumsum(hedge).tolist()\n",
    "    hedge_set.append(hedge)"
   ]
  },
  {
   "cell_type": "code",
   "execution_count": 16,
   "metadata": {},
   "outputs": [],
   "source": [
    "hedge_set=np.array(hedge_set)"
   ]
  },
  {
   "cell_type": "code",
   "execution_count": 17,
   "metadata": {},
   "outputs": [
    {
     "data": {
      "image/png": "[encoded data removed]",
      "text/plain": [
       "<Figure size 432x288 with 1 Axes>"
      ]
     },
     "metadata": {
      "needs_background": "light"
     },
     "output_type": "display_data"
    }
   ],
   "source": [
    "plt.plot(time,Option_samp[0])\n",
    "plt.plot(time,hedge_set[0])\n",
    "plt.show()"
   ]
  },
  {
   "cell_type": "code",
   "execution_count": 18,
   "metadata": {},
   "outputs": [
    {
     "data": {
      "text/plain": [
       "0.04382227854917361"
      ]
     },
     "execution_count": 18,
     "metadata": {},
     "output_type": "execute_result"
    }
   ],
   "source": [
    "su1=0\n",
    "num=0\n",
    "for j in range(path_num):\n",
    "    for i in range(len(Option_samp[int(j)])):\n",
    "        k=Option_samp[int(j)][i].tolist()-hedge_set[int(j)][i]\n",
    "        j=k**2\n",
    "        su1+=j\n",
    "        num+=1\n",
    "su1/num"
   ]
  },
  {
   "cell_type": "markdown",
   "metadata": {},
   "source": [
    "Deep neural network for hedging with linear transaction cost"
   ]
  },
  {
   "cell_type": "code",
   "execution_count": 19,
   "metadata": {},
   "outputs": [
    {
     "data": {
      "text/plain": [
       "(300, 29, 1)"
      ]
     },
     "execution_count": 19,
     "metadata": {},
     "output_type": "execute_result"
    }
   ],
   "source": [
    "x_train=path[:,:-1]\n",
    "x_train=x_train.reshape(x_train.shape[0],x_train.shape[1],1)\n",
    "x_train.shape"
   ]
  },
  {
   "cell_type": "code",
   "execution_count": 20,
   "metadata": {},
   "outputs": [],
   "source": [
    "import tensorflow as tf"
   ]
  },
  {
   "cell_type": "code",
   "execution_count": 49,
   "metadata": {},
   "outputs": [],
   "source": [
    "RNN_CELLSIZE = 50\n",
    "SEQLEN = x_train.shape[1]\n",
    "BATCHSIZE = 1\n",
    "LR = 0.005"
   ]
  },
  {
   "cell_type": "code",
   "execution_count": 50,
   "metadata": {},
   "outputs": [],
   "source": [
    "class GRUModel(tf.keras.Model):\n",
    "    def __init__(self, batch_size, seq_length, cell_size):\n",
    "        super().__init__()\n",
    "        self.batch_size = batch_size\n",
    "        self.seq_length = seq_length\n",
    "        self.cell_size = cell_size\n",
    "    \n",
    "        self.layer1 = tf.keras.layers.Reshape((self.seq_length,1), batch_size = self.batch_size)\n",
    "        self.layer_GRU = tf.keras.layers.GRU(self.cell_size,activation='relu',return_sequences=True)\n",
    "        self.layer_GRU_last = tf.keras.layers.GRU(self.cell_size,activation='relu')\n",
    "        self.layer_dense = tf.keras.layers.Dense(29)\n",
    "  \n",
    "    def call(self, inputs):\n",
    "        x = self.layer1(inputs)\n",
    "        x = self.layer_GRU(x)\n",
    "        x = self.layer_GRU_last(x)\n",
    "        output = self.layer_dense(x)\n",
    "        return output"
   ]
  },
  {
   "cell_type": "code",
   "execution_count": 51,
   "metadata": {},
   "outputs": [],
   "source": [
    "def loss_function1(x,S_diff,option):\n",
    "    diff=[]\n",
    "    for j in range(option.shape[0]):        \n",
    "        a=[option[j][0]]\n",
    "        for i in range(len(x[j])):\n",
    "            add=x[j][i]*S_diff[j][i]\n",
    "            a.append(add)\n",
    "        d=tf.cumsum(a)\n",
    "        b=option[j]-d\n",
    "        c=tf.abs(b[-1])\n",
    "        diff.append(c)\n",
    "    return diff"
   ]
  },
  {
   "cell_type": "code",
   "execution_count": 52,
   "metadata": {},
   "outputs": [],
   "source": [
    "def loss_fun1(price):\n",
    "    res=0\n",
    "    for i in range(len(price)):\n",
    "        e=np.percentile(price[i],50)\n",
    "        ES=0\n",
    "        n=0\n",
    "        for j in range(len(price[i])):\n",
    "            if tf.greater(price[i][j],e):\n",
    "                ES+=price[i][j]\n",
    "                n+=1\n",
    "        ES1=ES/n\n",
    "        res+=ES1\n",
    "    res1=res/len(price)\n",
    "    return res1"
   ]
  },
  {
   "cell_type": "code",
   "execution_count": 74,
   "metadata": {},
   "outputs": [],
   "source": [
    "def loss_fun3(price):\n",
    "    res=0\n",
    "    for i in range(len(price)):\n",
    "        e1=np.percentile(price[i],50)\n",
    "        e2=np.percentile(price[i],90)\n",
    "        beta=0.1\n",
    "        ES1=0\n",
    "        ES2=0\n",
    "        m=0\n",
    "        n=0\n",
    "        for j in range(len(price[i])):\n",
    "            if tf.greater(price[i][j],e1):\n",
    "                ES1+=price[i][j]\n",
    "                n+=1\n",
    "            if tf.greater(price[i][j],e2):\n",
    "                ES2+=price[i][j]\n",
    "                m+=1\n",
    "        ES11=ES1/n\n",
    "        ES21=ES2/m\n",
    "        con=(1.0/(1+beta))*(ES11+beta*ES21)\n",
    "        res+=con\n",
    "    res1=res/len(price)\n",
    "    return res1"
   ]
  },
  {
   "cell_type": "code",
   "execution_count": 75,
   "metadata": {},
   "outputs": [],
   "source": [
    "model = GRUModel(BATCHSIZE, SEQLEN,RNN_CELLSIZE)\n",
    "optimizer = tf.keras.optimizers.Adam(learning_rate = LR)"
   ]
  },
  {
   "cell_type": "code",
   "execution_count": 76,
   "metadata": {},
   "outputs": [
    {
     "name": "stdout",
     "output_type": "stream",
     "text": [
      "WARNING:tensorflow:Layer gru_model_2 is casting an input tensor from dtype float64 to the layer's dtype of float32, which is new behavior in TensorFlow 2.  The layer has dtype float32 because it's dtype defaults to floatx.\n",
      "\n",
      "If you intended to run this layer in float32, you can safely ignore this warning. If in doubt, this warning is likely only an issue if you are porting a TensorFlow 1.X model to TensorFlow 2.\n",
      "\n",
      "To change all layers to have dtype float64 by default, call `tf.keras.backend.set_floatx('float64')`. To change just this layer, pass dtype='float64' to the layer constructor. If you are the author of this layer, you can disable autocasting by passing autocast=False to the base Layer constructor.\n",
      "\n",
      "epoch: 0, loss: 6.9618682861328125\n",
      "epoch: 1, loss: 4.4572434425354\n",
      "epoch: 2, loss: 3.243060350418091\n",
      "epoch: 3, loss: 2.644430637359619\n",
      "epoch: 4, loss: 2.2350640296936035\n",
      "epoch: 5, loss: 1.872795820236206\n",
      "epoch: 6, loss: 1.590617060661316\n",
      "epoch: 7, loss: 1.428830623626709\n",
      "epoch: 8, loss: 1.3311657905578613\n",
      "epoch: 9, loss: 1.2766237258911133\n",
      "epoch: 10, loss: 1.2420494556427002\n",
      "epoch: 11, loss: 1.2208685874938965\n",
      "epoch: 12, loss: 1.19405996799469\n",
      "epoch: 13, loss: 1.1583164930343628\n",
      "epoch: 14, loss: 1.1303619146347046\n",
      "epoch: 15, loss: 1.114471197128296\n",
      "epoch: 16, loss: 1.1044508218765259\n",
      "epoch: 17, loss: 1.0972908735275269\n",
      "epoch: 18, loss: 1.0899710655212402\n",
      "epoch: 19, loss: 1.0769881010055542\n",
      "epoch: 20, loss: 1.0578818321228027\n",
      "epoch: 21, loss: 1.0382468700408936\n",
      "epoch: 22, loss: 1.021946668624878\n",
      "epoch: 23, loss: 1.0089558362960815\n",
      "epoch: 24, loss: 1.004844307899475\n",
      "epoch: 25, loss: 0.9941155910491943\n",
      "epoch: 26, loss: 0.9832821488380432\n",
      "epoch: 27, loss: 0.9804824590682983\n",
      "epoch: 28, loss: 0.9730807542800903\n",
      "epoch: 29, loss: 0.9528344869613647\n",
      "epoch: 30, loss: 0.9709911942481995\n",
      "epoch: 31, loss: 1.0290857553482056\n",
      "epoch: 32, loss: 0.9395259618759155\n",
      "epoch: 33, loss: 1.0501384735107422\n",
      "epoch: 34, loss: 0.9292941093444824\n",
      "epoch: 35, loss: 1.0138347148895264\n",
      "epoch: 36, loss: 0.9612817168235779\n",
      "epoch: 37, loss: 0.9577797651290894\n",
      "epoch: 38, loss: 0.969482421875\n",
      "epoch: 39, loss: 0.927726149559021\n",
      "epoch: 40, loss: 0.9662591814994812\n",
      "epoch: 41, loss: 0.9188121557235718\n",
      "epoch: 42, loss: 0.947874128818512\n",
      "epoch: 43, loss: 0.9303436279296875\n",
      "epoch: 44, loss: 0.919080376625061\n",
      "epoch: 45, loss: 0.9328811764717102\n",
      "epoch: 46, loss: 0.90426105260849\n",
      "epoch: 47, loss: 0.9291702508926392\n",
      "epoch: 48, loss: 0.8978530764579773\n",
      "epoch: 49, loss: 0.9189185500144958\n",
      "epoch: 50, loss: 0.8960691094398499\n",
      "epoch: 51, loss: 0.9142887592315674\n",
      "epoch: 52, loss: 0.8910292387008667\n",
      "epoch: 53, loss: 0.907954216003418\n",
      "epoch: 54, loss: 0.888651430606842\n",
      "epoch: 55, loss: 0.9041881561279297\n",
      "epoch: 56, loss: 0.8858361840248108\n",
      "epoch: 57, loss: 0.8956989645957947\n",
      "epoch: 58, loss: 0.8831366896629333\n",
      "epoch: 59, loss: 0.8896495699882507\n",
      "epoch: 60, loss: 0.8867425322532654\n",
      "epoch: 61, loss: 0.8823711276054382\n",
      "epoch: 62, loss: 0.8896228075027466\n",
      "epoch: 63, loss: 0.8771665692329407\n",
      "epoch: 64, loss: 0.881278395652771\n",
      "epoch: 65, loss: 0.8770720362663269\n",
      "epoch: 66, loss: 0.874942421913147\n",
      "epoch: 67, loss: 0.8771041631698608\n",
      "epoch: 68, loss: 0.8709614872932434\n",
      "epoch: 69, loss: 0.8733231425285339\n",
      "epoch: 70, loss: 0.8713147044181824\n",
      "epoch: 71, loss: 0.8684295415878296\n",
      "epoch: 72, loss: 0.8709678053855896\n",
      "epoch: 73, loss: 0.8678779006004333\n",
      "epoch: 74, loss: 0.8649408221244812\n",
      "epoch: 75, loss: 0.8671346306800842\n",
      "epoch: 76, loss: 0.8647911548614502\n",
      "epoch: 77, loss: 0.8610104322433472\n",
      "epoch: 78, loss: 0.862055242061615\n",
      "epoch: 79, loss: 0.8642939329147339\n",
      "epoch: 80, loss: 0.8600154519081116\n",
      "epoch: 81, loss: 0.8572556376457214\n",
      "epoch: 82, loss: 0.8566184639930725\n",
      "epoch: 83, loss: 0.8564005494117737\n",
      "epoch: 84, loss: 0.8572586178779602\n",
      "epoch: 85, loss: 0.8588806390762329\n",
      "epoch: 86, loss: 0.8634377121925354\n",
      "epoch: 87, loss: 0.8621618747711182\n",
      "epoch: 88, loss: 0.858380138874054\n",
      "epoch: 89, loss: 0.8513882756233215\n",
      "epoch: 90, loss: 0.8476399779319763\n",
      "epoch: 91, loss: 0.8458587527275085\n",
      "epoch: 92, loss: 0.8462862372398376\n",
      "epoch: 93, loss: 0.8475568890571594\n",
      "epoch: 94, loss: 0.8512048721313477\n",
      "epoch: 95, loss: 0.8566886186599731\n",
      "epoch: 96, loss: 0.8493009209632874\n",
      "epoch: 97, loss: 0.8436553478240967\n",
      "epoch: 98, loss: 0.8383665084838867\n",
      "epoch: 99, loss: 0.8351394534111023\n",
      "epoch: 100, loss: 0.8344466090202332\n",
      "epoch: 101, loss: 0.8376722931861877\n",
      "epoch: 102, loss: 0.8523173928260803\n",
      "epoch: 103, loss: 0.869369626045227\n",
      "epoch: 104, loss: 0.8693968653678894\n",
      "epoch: 105, loss: 0.8339377045631409\n",
      "epoch: 106, loss: 0.8261665105819702\n",
      "epoch: 107, loss: 0.8452777862548828\n",
      "epoch: 108, loss: 0.8498824834823608\n",
      "epoch: 109, loss: 0.8331522941589355\n",
      "epoch: 110, loss: 0.8206999897956848\n",
      "epoch: 111, loss: 0.8273053169250488\n",
      "epoch: 112, loss: 0.8429695963859558\n",
      "epoch: 113, loss: 0.8381446003913879\n",
      "epoch: 114, loss: 0.8226191997528076\n",
      "epoch: 115, loss: 0.8152908086776733\n",
      "epoch: 116, loss: 0.8193779587745667\n",
      "epoch: 117, loss: 0.8330427408218384\n",
      "epoch: 118, loss: 0.8408100008964539\n",
      "epoch: 119, loss: 0.8334129452705383\n",
      "epoch: 120, loss: 0.8168209791183472\n",
      "epoch: 121, loss: 0.8090459704399109\n",
      "epoch: 122, loss: 0.8128451704978943\n",
      "epoch: 123, loss: 0.8247280716896057\n",
      "epoch: 124, loss: 0.8325016498565674\n",
      "epoch: 125, loss: 0.8241923451423645\n",
      "epoch: 126, loss: 0.8109577298164368\n",
      "epoch: 127, loss: 0.8035626411437988\n",
      "epoch: 128, loss: 0.8017492890357971\n",
      "epoch: 129, loss: 0.8040370941162109\n",
      "epoch: 130, loss: 0.8157232403755188\n",
      "epoch: 131, loss: 0.8360059261322021\n",
      "epoch: 132, loss: 0.840806782245636\n",
      "epoch: 133, loss: 0.8143730163574219\n",
      "epoch: 134, loss: 0.7974247336387634\n",
      "epoch: 135, loss: 0.7955814599990845\n",
      "epoch: 136, loss: 0.8049983382225037\n",
      "epoch: 137, loss: 0.8182290196418762\n",
      "epoch: 138, loss: 0.8267574310302734\n",
      "epoch: 139, loss: 0.8157631158828735\n",
      "epoch: 140, loss: 0.7981338500976562\n",
      "epoch: 141, loss: 0.7883522510528564\n",
      "epoch: 142, loss: 0.7871963381767273\n",
      "epoch: 143, loss: 0.7965918183326721\n",
      "epoch: 144, loss: 0.820681631565094\n",
      "epoch: 145, loss: 0.8503637909889221\n",
      "epoch: 146, loss: 0.8215065002441406\n",
      "epoch: 147, loss: 0.7856118083000183\n",
      "epoch: 148, loss: 0.7921786308288574\n",
      "epoch: 149, loss: 0.8177577257156372\n"
     ]
    }
   ],
   "source": [
    "for epoch in range(150):\n",
    "    with tf.GradientTape() as tape:\n",
    "        y_pred = model(x_train)\n",
    "        #print(y_pred)\n",
    "        price=loss_function1(y_pred, path_diff,Option_samp)\n",
    "        loss=loss_fun3(price)\n",
    "        if epoch%1 == 0:\n",
    "            print(\"epoch: {}, loss: {}\".format(epoch, loss))\n",
    "  \n",
    "    grads = tape.gradient(loss, model.variables)\n",
    "    optimizer.apply_gradients(zip(grads,model.variables))"
   ]
  },
  {
   "cell_type": "markdown",
   "metadata": {},
   "source": [
    "test sample"
   ]
  },
  {
   "cell_type": "code",
   "execution_count": 126,
   "metadata": {},
   "outputs": [],
   "source": [
    "test_num=500  #We could set the number of test samples. Here we choose 500 test samples\n",
    "test_path=[]\n",
    "for i in range(test_num):\n",
    "    rand=np.random.standard_normal(size=N)\n",
    "    S=np.zeros_like(rand)\n",
    "    S[0]=S0\n",
    "    for i in range(1,N):\n",
    "        S[i]=S[i-1]*np.exp((r-vol**2/2)*dt+vol*rand[i]*math.sqrt(dt))\n",
    "    test_path.append(S)"
   ]
  },
  {
   "cell_type": "code",
   "execution_count": 127,
   "metadata": {},
   "outputs": [
    {
     "data": {
      "image/png": "[encoded data removed]",
      "text/plain": [
       "<Figure size 432x288 with 1 Axes>"
      ]
     },
     "metadata": {
      "needs_background": "light"
     },
     "output_type": "display_data"
    }
   ],
   "source": [
    "test_S_sam=test_path[0]\n",
    "time=range(len(test_S_sam))\n",
    "time=np.array(time)/365\n",
    "plt.xlabel('time')\n",
    "plt.ylabel('price')\n",
    "plt.title(u'GBM')\n",
    "plt.plot(time,test_S_sam)\n",
    "plt.show()"
   ]
  },
  {
   "cell_type": "code",
   "execution_count": 128,
   "metadata": {},
   "outputs": [
    {
     "data": {
      "text/plain": [
       "(500, 30)"
      ]
     },
     "execution_count": 128,
     "metadata": {},
     "output_type": "execute_result"
    }
   ],
   "source": [
    "test_path=np.array(test_path)\n",
    "test_path.shape"
   ]
  },
  {
   "cell_type": "markdown",
   "metadata": {},
   "source": [
    "Leland model hedge"
   ]
  },
  {
   "cell_type": "code",
   "execution_count": 129,
   "metadata": {},
   "outputs": [],
   "source": [
    "def call_option_price(spot,strike,maturity,r,vol):\n",
    "    pricer=[]\n",
    "    for i in range(len(spot)):\n",
    "        pricer1=[]\n",
    "        for j in range(len(spot[i])-1):\n",
    "            spot1=spot[i][j]\n",
    "            d1=(log(spot1/strike)+(r+0.5*vol*vol)*maturity[j])/(vol*sqrt(maturity[j]))\n",
    "            d2=d1-vol*sqrt(maturity[j])\n",
    "            price=spot1*norm.cdf(d1)-strike*exp(-r*maturity[j])*norm.cdf(d2)\n",
    "            pricer1.append(price)\n",
    "        pricer1.append(max(spot[i][-1]-100,0))\n",
    "        pricer.append(pricer1)\n",
    "    pricer=np.array(pricer)\n",
    "    return pricer"
   ]
  },
  {
   "cell_type": "code",
   "execution_count": 130,
   "metadata": {},
   "outputs": [
    {
     "name": "stdout",
     "output_type": "stream",
     "text": [
      "Wall time: 1.89 s\n"
     ]
    }
   ],
   "source": [
    "%%time\n",
    "test_Option_sam=call_option_price(test_path,100,rever_t,r,le_vol)\n",
    "test_Option_sam"
   ]
  },
  {
   "cell_type": "code",
   "execution_count": 131,
   "metadata": {},
   "outputs": [],
   "source": [
    "def hedge_ratio(path_num,rever_t,path,S0,vol,r):\n",
    "    te=[]\n",
    "    for j in range(path_num):    \n",
    "        d_nor=[]\n",
    "        for i in range(len(rever_t)):\n",
    "            par1=1.0/(vol*math.sqrt(rever_t[i]))\n",
    "            par2=np.log(path[j][i]/S0)\n",
    "            par3=(r+(vol**2)/2)*(rever_t[i])\n",
    "            Nd=par1*(par2+par3)\n",
    "            d_nor.append(ss.norm.cdf(Nd))\n",
    "        te.append(d_nor)\n",
    "    return te"
   ]
  },
  {
   "cell_type": "code",
   "execution_count": 132,
   "metadata": {},
   "outputs": [],
   "source": [
    "test_Nor=hedge_ratio(test_num,rever_t,test_path,S0,le_vol,r)"
   ]
  },
  {
   "cell_type": "code",
   "execution_count": 133,
   "metadata": {},
   "outputs": [],
   "source": [
    "def hedge_set1(path_num,rever_t,Option_samp,Nd_nor,path):\n",
    "    hedge_set=[]\n",
    "    for i in range(path_num):\n",
    "        hedge=[Option_samp[i][0].tolist()]\n",
    "        for j in range(len(Nd_nor[i])):\n",
    "            diff=path[i][j+1]-path[i][j]\n",
    "            hold=Nd_nor[i][j]*diff\n",
    "            hedge.append(hold)\n",
    "    \n",
    "        hedge=np.cumsum(hedge).tolist()\n",
    "        hedge_set.append(hedge)\n",
    "    hedge_set=np.array(hedge_set)\n",
    "    return hedge_set"
   ]
  },
  {
   "cell_type": "code",
   "execution_count": 134,
   "metadata": {},
   "outputs": [],
   "source": [
    "test_hedge=hedge_set1(test_num,rever_t,test_Option_sam,test_Nor,test_path)"
   ]
  },
  {
   "cell_type": "markdown",
   "metadata": {},
   "source": [
    "Example of Leland model hedge"
   ]
  },
  {
   "cell_type": "code",
   "execution_count": 135,
   "metadata": {},
   "outputs": [
    {
     "data": {
      "image/png": "[encoded data removed]",
      "text/plain": [
       "<Figure size 432x288 with 1 Axes>"
      ]
     },
     "metadata": {
      "needs_background": "light"
     },
     "output_type": "display_data"
    }
   ],
   "source": [
    "plt.plot(time,test_Option_sam[7])\n",
    "plt.plot(time,test_hedge[7])\n",
    "plt.show()"
   ]
  },
  {
   "cell_type": "markdown",
   "metadata": {},
   "source": [
    "Mean squared hedging loss of Leland model hedge"
   ]
  },
  {
   "cell_type": "code",
   "execution_count": 136,
   "metadata": {},
   "outputs": [
    {
     "data": {
      "text/plain": [
       "0.07524578662338532"
      ]
     },
     "execution_count": 136,
     "metadata": {},
     "output_type": "execute_result"
    }
   ],
   "source": [
    "su1=0\n",
    "num=0\n",
    "hist_model=[]\n",
    "for j in range(test_num):\n",
    "    for i in range(len(test_Option_sam[int(j)])):\n",
    "        k=test_Option_sam[int(j)][i].tolist()-test_hedge[int(j)][i]\n",
    "        hist_model.append(k)\n",
    "        err=k**2\n",
    "        su1+=err\n",
    "        num+=1\n",
    "su1/num"
   ]
  },
  {
   "cell_type": "markdown",
   "metadata": {},
   "source": [
    "network hedge"
   ]
  },
  {
   "cell_type": "code",
   "execution_count": 137,
   "metadata": {},
   "outputs": [],
   "source": [
    "y_test=model.predict(test_path[:,:-1])"
   ]
  },
  {
   "cell_type": "code",
   "execution_count": 138,
   "metadata": {},
   "outputs": [
    {
     "data": {
      "text/plain": [
       "(500, 29)"
      ]
     },
     "execution_count": 138,
     "metadata": {},
     "output_type": "execute_result"
    }
   ],
   "source": [
    "y_test.shape"
   ]
  },
  {
   "cell_type": "code",
   "execution_count": 139,
   "metadata": {},
   "outputs": [],
   "source": [
    "op_te=hedge_set1(test_num,rever_t,test_Option_sam,y_test,test_path)"
   ]
  },
  {
   "cell_type": "markdown",
   "metadata": {},
   "source": [
    "Example of network hedge"
   ]
  },
  {
   "cell_type": "code",
   "execution_count": 140,
   "metadata": {},
   "outputs": [
    {
     "data": {
      "image/png": "[encoded data removed]",
      "text/plain": [
       "<Figure size 432x288 with 1 Axes>"
      ]
     },
     "metadata": {
      "needs_background": "light"
     },
     "output_type": "display_data"
    }
   ],
   "source": [
    "plt.plot(time,test_Option_sam[7])\n",
    "plt.plot(time,op_te[7])\n",
    "plt.show()"
   ]
  },
  {
   "cell_type": "markdown",
   "metadata": {},
   "source": [
    "Mean squared hedging loss of network hedge"
   ]
  },
  {
   "cell_type": "code",
   "execution_count": 141,
   "metadata": {},
   "outputs": [
    {
     "data": {
      "text/plain": [
       "0.5418610587193905"
      ]
     },
     "execution_count": 141,
     "metadata": {},
     "output_type": "execute_result"
    }
   ],
   "source": [
    "su1=0\n",
    "num=0\n",
    "hist_model1=[]\n",
    "for j in range(test_num):\n",
    "    for i in range(len(test_Option_sam[int(j)])):\n",
    "        k=test_Option_sam[int(j)][i].tolist()-op_te[int(j)][i]\n",
    "        hist_model1.append(k)\n",
    "        err=k**2\n",
    "        su1+=err\n",
    "        num+=1\n",
    "su1/num"
   ]
  },
  {
   "cell_type": "markdown",
   "metadata": {},
   "source": [
    "Distribution of mean squared hedging loss of Leland model hedge"
   ]
  },
  {
   "cell_type": "code",
   "execution_count": 142,
   "metadata": {},
   "outputs": [
    {
     "data": {
      "image/png": "[encoded data removed]",
      "text/plain": [
       "<Figure size 432x288 with 1 Axes>"
      ]
     },
     "metadata": {
      "needs_background": "light"
     },
     "output_type": "display_data"
    }
   ],
   "source": [
    "plt.hist(hist_model,bins=100)  #Distribution of mean squared hedging loss of Leland model hedge\n",
    "plt.title('Distribution of mean squared hedging loss of Leland model hedge')\n",
    "plt.show()"
   ]
  },
  {
   "cell_type": "markdown",
   "metadata": {},
   "source": [
    "Distribution of mean squared hedging loss of network hedge"
   ]
  },
  {
   "cell_type": "code",
   "execution_count": 143,
   "metadata": {},
   "outputs": [
    {
     "data": {
      "image/png": "[encoded data removed]",
      "text/plain": [
       "<Figure size 432x288 with 1 Axes>"
      ]
     },
     "metadata": {
      "needs_background": "light"
     },
     "output_type": "display_data"
    }
   ],
   "source": [
    "plt.hist(hist_model1,bins=100)  #Distribution of mean squared hedging loss of network hedge\n",
    "plt.title('Distribution of mean squared hedging loss of network hedge')  \n",
    "plt.show()"
   ]
  },
  {
   "cell_type": "markdown",
   "metadata": {},
   "source": [
    "Since we only use 300 training samples to train the model, the mean squared hedging loss of network hedge is a bit larger than that of Leland model hedge. With the increasing number of training samples, network hedge will be able to replicate the Leland model hedge reasonably well and even outperforms the Leland model hedge with linear transaction costs."
   ]
  },
  {
   "cell_type": "code",
   "execution_count": null,
   "metadata": {},
   "outputs": [],
   "source": []
  }
 ],
 "metadata": {
  "kernelspec": {
   "display_name": "Python 3",
   "language": "python",
   "name": "python3"
  },
  "language_info": {
   "codemirror_mode": {
    "name": "ipython",
    "version": 3
   },
   "file_extension": ".py",
   "mimetype": "text/x-python",
   "name": "python",
   "nbconvert_exporter": "python",
   "pygments_lexer": "ipython3",
   "version": "3.7.0"
  }
 },
 "nbformat": 4,
 "nbformat_minor": 2
}
